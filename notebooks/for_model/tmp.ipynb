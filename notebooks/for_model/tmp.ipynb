{
 "cells": [
  {
   "cell_type": "code",
   "execution_count": 1,
   "metadata": {},
   "outputs": [],
   "source": [
    "import pandas as pd\n",
    "from sklearn.preprocessing import LabelEncoder"
   ]
  },
  {
   "cell_type": "code",
   "execution_count": 5,
   "metadata": {},
   "outputs": [],
   "source": [
    "df = pd.read_csv('/data1/ohnishi/202271month_per_hour_geotaged_adGeocode_undersampled.csv')"
   ]
  },
  {
   "cell_type": "code",
   "execution_count": 5,
   "metadata": {},
   "outputs": [],
   "source": [
    "x=\"text\"\n",
    "y=\"code\"\n",
    "index_train = int(len(df) * 0.8)\n",
    "index_val = int(len(df) * 0.1)\n",
    "index_test = int(len(df) * 0.1)\n",
    "df[x] = df[x].astype(str)\n",
    "df_train = df.iloc[0:index_train, 1:]\n",
    "df_val = df.iloc[index_train : index_train + index_val, 1:]\n",
    "df_test = df.iloc[\n",
    "    index_train + index_val : index_train + index_val + index_test, 1:\n",
    "]\n",
    "L = LabelEncoder()\n",
    "df[y] = L.fit_transform(df[y])\n",
    "df_train[y] = L.transform(df_train[y])\n",
    "df_test[y] = L.transform(df_test[y])\n",
    "df_val[y] = L.transform(df_val[y])\n",
    "df_train = df_train.reset_index(drop=True)\n",
    "df_val = df_val.reset_index(drop=True)\n",
    "df_test = df_test.reset_index(drop=True)\n",
    "num_class = df_train[y].max() + 1  # オリジンの補正"
   ]
  },
  {
   "cell_type": "code",
   "execution_count": 6,
   "metadata": {},
   "outputs": [
    {
     "data": {
      "text/plain": [
       "83"
      ]
     },
     "execution_count": 6,
     "metadata": {},
     "output_type": "execute_result"
    }
   ],
   "source": [
    "num_class"
   ]
  },
  {
   "cell_type": "code",
   "execution_count": null,
   "metadata": {},
   "outputs": [],
   "source": []
  },
  {
   "cell_type": "code",
   "execution_count": null,
   "metadata": {},
   "outputs": [],
   "source": []
  },
  {
   "cell_type": "code",
   "execution_count": 3,
   "metadata": {},
   "outputs": [],
   "source": [
    "df=df.iloc[0:100,:]"
   ]
  },
  {
   "cell_type": "code",
   "execution_count": 4,
   "metadata": {},
   "outputs": [],
   "source": [
    "df.to_csv(\"/data1/ohnishi/202271month_per_hour_geotaged_adGeocode_undersampled_100.csv\")"
   ]
  },
  {
   "cell_type": "code",
   "execution_count": 8,
   "metadata": {},
   "outputs": [
    {
     "data": {
      "text/plain": [
       "0                               また明日色々と載せます🙏本日はありがとうございました✨\n",
       "1         #インチキ効果もいい加減にしろアナコンダからのデスフェニ https://t.co/nYPN...\n",
       "2              @huwanekonya リボーン名古屋くらいで一緒にタコ踊り出来たような気がします！w\n",
       "3         明日はツーリングに変更しますレン耐の皆さま、9月によろしくお願いします🥺 https://t...\n",
       "4                          @sakuramaru017 イタリア🇮🇹←ただ、自分が住むなら\n",
       "                                ...                        \n",
       "655041                   南樺太は帰属未定やね https://t.co/y3OtUpokZH\n",
       "655042                    サウナ ✕ ウニ丼 https://t.co/VUeJQlgaVd\n",
       "655043    最北端で優雅に草食べてる鹿発見🤣宗谷岬着きました！ https://t.co/E64xKvEv0b\n",
       "655044    日本最北端のマクドナルド！ドナルドは入院から帰ってきたようです！良かった(•ᴗ•) http...\n",
       "655045    ちなみに、183系が756/757番、新駅舎10周年は2887/2888番。危なかった😨 h...\n",
       "Name: text, Length: 655046, dtype: object"
      ]
     },
     "execution_count": 8,
     "metadata": {},
     "output_type": "execute_result"
    }
   ],
   "source": [
    "df[\"text\"]"
   ]
  }
 ],
 "metadata": {
  "kernelspec": {
   "display_name": "Python 3.8.13 ('SharedTask')",
   "language": "python",
   "name": "python3"
  },
  "language_info": {
   "codemirror_mode": {
    "name": "ipython",
    "version": 3
   },
   "file_extension": ".py",
   "mimetype": "text/x-python",
   "name": "python",
   "nbconvert_exporter": "python",
   "pygments_lexer": "ipython3",
   "version": "3.8.13"
  },
  "orig_nbformat": 4,
  "vscode": {
   "interpreter": {
    "hash": "6feaf4af813783365efc585a6800850988678764fcb0bba12eca45fe4d31fdb0"
   }
  }
 },
 "nbformat": 4,
 "nbformat_minor": 2
}
