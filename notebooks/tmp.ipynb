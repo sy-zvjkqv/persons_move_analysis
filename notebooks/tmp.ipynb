{
 "cells": [
  {
   "cell_type": "code",
   "execution_count": 10,
   "metadata": {},
   "outputs": [],
   "source": [
    "import pandas as pd\n",
    "import numpy as np\n",
    "import tweepy\n",
    "import datetime\n",
    "import pytz\n",
    "import time\n",
    "from datetime import timezone"
   ]
  },
  {
   "cell_type": "code",
   "execution_count": 3,
   "metadata": {},
   "outputs": [],
   "source": [
    "BT = \"AAAAAAAAAAAAAAAAAAAAAEdLhgEAAAAAKyu0W6PIo7Zj%2FNB1BpINf%2Fcm6gE%3DT0EVYBss7PGh2rxZ70CXaOvKMrCifCwfVwsK37dXrcPSA851gg\"\n",
    "CK = \"zScfmXxDONhXg9cIjp2SEk6m6\"\n",
    "CS = \"fuAXsoZjTU5zvE1MkievSa7oITjF414wU6EGQUSgBwuTSfT44h\"\n",
    "AT = \"1557281594955923456-ae2iV205fcP82YzSkCj3T9fPCQEEjh\"\n",
    "AS = \"yOYPCy5G7ty8L6OikJWewpbSdEvGGbl1ETHgrRdw8ffGU\"\n",
    "\n",
    "api = tweepy.Client(bearer_token=BT, consumer_key=CK, consumer_secret=CS, access_token=AT, access_token_secret=AS, wait_on_rate_limit=True)\n",
    "\n",
    "def utc2jst(timestamp_utc):\n",
    "    datetime_utc = datetime.datetime.strptime(timestamp_utc + \".000+0000\", \"%Y-%m-%dT%H:%M:%SZ.%f%z\")\n",
    "    datetime_jst = datetime_utc.astimezone(datetime.timezone(datetime.timedelta(hours=+9)))\n",
    "    timestamp_jst = datetime.datetime.strftime(datetime_jst, '%Y-%m-%dT%H:%M:%SZ')\n",
    "    return timestamp_jst\n",
    "\n",
    "def jst2utc(timestamp_jst):\n",
    "    datatime_jst = datetime.datetime.strptime(timestamp_jst + \".000+0000\", \"%Y-%m-%dT%H:%M:%SZ.%f%z\")\n",
    "    datetime_utc = datatime_jst.astimezone(datetime.timezone(datetime.timedelta(hours=-9)))\n",
    "    timestamp_utc = datetime.datetime.strftime(datetime_utc, '%Y-%m-%dT%H:%M:%SZ')\n",
    "    return timestamp_utc\n",
    "\n",
    "def twittertime2jst(time):\n",
    "    utc = datetime.datetime(time.year, time.month,time.day, \\\n",
    "    time.hour,time.minute,time.second, tzinfo=timezone.utc)\n",
    "    jst = utc.astimezone(pytz.timezone(\"Asia/Tokyo\"))\n",
    "    str_time = jst.strftime(\"%Y-%m-%d_%H:%M:%S\")\n",
    "    return str_time\n",
    "\n",
    "\n",
    "def make_timestamp(yyyy,mm,dd,hh):\n",
    "    start_time =(str(yyyy)+ '-'+str(mm) +'-' +str(dd) +'T' +str(hh)+':00:00Z')\n",
    "    end_time = (str(yyyy)+ '-'+str(mm) +'-' +str(dd) +'T' +str(hh)+':59:59Z')\n",
    "    start_time = jst2utc(start_time)\n",
    "    end_time = jst2utc(end_time)\n",
    "    return start_time,end_time\n",
    "\n",
    "def clean_text_forCSV(text):\n",
    "    if text ==None:\n",
    "        return text\n",
    "    else:\n",
    "        text = text.replace(\"\\n\", \"\")\n",
    "        text = text.replace(\",\", \"\")\n",
    "        return text\n"
   ]
  },
  {
   "cell_type": "code",
   "execution_count": 6,
   "metadata": {},
   "outputs": [],
   "source": [
    "start_time,end_time = make_timestamp(str(2020),str(10),'01','00')\n",
    "search_word = '(あ OR い ORう OR え OR お OR か OR き OR く OR け OR こ OR さ OR し OR す OR せ OR そ OR た OR ち OR つ OR て OR と OR な OR に OR ぬ OR ね OR の OR は OR ひ OR ふ OR へ OR ほ OR ま OR み OR む OR め OR も OR や OR ゆ OR よ OR ら OR り OR る OR れ OR ろ OR わ OR を OR ん)lang:ja'\n"
   ]
  },
  {
   "cell_type": "code",
   "execution_count": 11,
   "metadata": {},
   "outputs": [],
   "source": [
    "list_tweets = []\n",
    "counter = 0\n",
    "for response in tweepy.Paginator(api.search_all_tweets,\n",
    "                                query = search_word,\n",
    "                                user_fields = ['username', 'public_metrics', 'description', 'location',],\n",
    "                                tweet_fields = ['created_at', 'geo', 'public_metrics', 'text', 'source', 'attachments'],\n",
    "                                media_fields = ['url', 'type', ],\n",
    "                                expansions = ['author_id', 'attachments.media_keys'],\n",
    "                                start_time=start_time,\n",
    "                                end_time=end_time,\n",
    "                                max_results=100,limit=1):\n",
    "    time.sleep(1)\n",
    "    list_tweets.append(response)\n",
    "    #break\n",
    "result = []\n",
    "user_dict = {}\n",
    "# Loop through each response object\n",
    "for response in list_tweets:\n",
    "    # Take all of the users, and put them into a dictionary of dictionaries with the info we want to keep\n",
    "    for user in response.includes['users']:\n",
    "        user_dict[user.id] = {'username': clean_text_forCSV(user.username),\n",
    "                            'followers': user.public_metrics['followers_count'],\n",
    "                            'tweets': user.public_metrics['tweet_count'],\n",
    "                            'description': clean_text_forCSV(user.description),\n",
    "                            'location': clean_text_forCSV(user.location)\n",
    "                            }\n",
    "    for tweet in response.data:\n",
    "        # For each tweet, find the author's information\n",
    "        author_info = user_dict[tweet.author_id]\n",
    "        # Put all of the information we want to keep in a single dictionary for each tweet\n",
    "        created_at = twittertime2jst(tweet.created_at)\n",
    "        if tweet.geo != None:\n",
    "            result.append({'text': clean_text_forCSV(tweet.text),\n",
    "                        'created_at': created_at,\n",
    "                        'retweets': tweet.public_metrics['retweet_count'],\n",
    "                        'replies': tweet.public_metrics['reply_count'],\n",
    "                        'likes': tweet.public_metrics['like_count'],\n",
    "                        'quote_count': tweet.public_metrics['quote_count'],\n",
    "                        'author_id': tweet.author_id,\n",
    "                        'username': author_info['username'],\n",
    "                        'author_followers': author_info['followers'],\n",
    "                        'author_tweets': author_info['tweets'],\n",
    "                        'author_description': author_info['description'],\n",
    "                        'author_location': author_info['location']\n",
    "                        })\n",
    "\n",
    "# Change this list of dictionaries into a dataframe\n",
    "df = pd.DataFrame(result)"
   ]
  },
  {
   "cell_type": "code",
   "execution_count": 12,
   "metadata": {},
   "outputs": [
    {
     "data": {
      "text/plain": [
       "[Response(data=[<Tweet id=1311334987048734720 text='＃錦織\\nあーあ。\\n今日はもう寝るか'>, <Tweet id=1311334987019350016 text='@10toride01 お誕生日おめでとうございますーーーーー！！！！！！！✨🌹🎉🎊🎂🍗🥓🥩🍣🍕🍷🍾まだまだ大変なご時世ですがいっぱい美味しい物食べていっぱい推しを摂取してください〜！！！'>, <Tweet id=1311334986998448133 text='@ayashama69 めっちゃ可愛いじゃないですか!\\n\\nでもアイアンメイデン聴いてるみたいな（笑）'>, <Tweet id=1311334986994216961 text='すみませんかのんくん引けた方いましたらアルバム埋めさせてもらえませんか！？！？後でTL遡ってお声がけするかもしれない\\u3000すみません……😭😭😭'>, <Tweet id=1311334986994208769 text='RT @smapsmap563: #ミッドナイトスワン\\n登場時の一果ちゃんと同じ年の息子に是非観て欲しいと思った\\n男の子だから感想を多くは言わなかったけれど\\n上映中ずっと前のめりで真剣に観ていたのが伝わって来た\\n鑑賞直後の息子の表情を見て一緒に観れて良かったと心から思ったよ\\n#…'>, <Tweet id=1311334986985873409 text='Estonia🇪🇪\\n絵本の中に迷い込んだみたいな可愛い可愛い町Tallinn🕊💗城壁に囲まれてるから初めてには心強かった〜〜 https://t.co/c7I2MGnICG'>, <Tweet id=1311334986969047042 text='RT @nhk_news: 東京 順天堂大学 練馬病院でクラスターか 新たに33人感染確認 #nhk_news https://t.co/15fISvIXBQ'>, <Tweet id=1311334986964824064 text='RT @cheeky531: 写真を投稿しましたhttps://t.co/cf5j5xJWEw'>, <Tweet id=1311334986939871234 text='@wef_neushia @7g845qq2RiW66Hb 15って13，14より強くない人が出てくる印象だったんだけど、時々？？？ってなる人がいますねー。ワールドのランキングにいる人です、私の強さから考えてちょっとおかしいと思うんですけど(´・ω・`)'>, <Tweet id=1311334986935676929 text='@hello_asaruto \\nこの度はご参加いただきありがとうございます！\\n\\n当選結果は・・・動画を確認してね！\\n\\n▼アプリダウンロードはこちら\\nhttps://t.co/SA3hmXqLiN https://t.co/Q1wCttQTjZ'>, <Tweet id=1311334986914476032 text='@fkykmsz そうですね…文字通り他の人ですしね…\\nぴあ姉さんの好きなこと・ところが自分で見つけられることをお祈り申し上げますm(__)m'>, <Tweet id=1311334986910298112 text='RT @chanmina1014: 実際に、凄く素晴らしくて楽しい人でした\\n10年前の私には想像ができなかったけど\\n私が個人的にこの曲に込めた想いでなんとか\\nとにかく、誘ってくれてありがとうございました\\n愛を込めて https://t.co/9NCbu2THnU'>, <Tweet id=1311334986906128385 text='RT @jinrui_nikki: 大統領候補討論会を酷評する論調が強いですが（それにもうなずけますが）、討論して批判にさらされることをちゃんとやっているだけマシではありませんか。\\n議論から逃げ、国会を閉め、会見をせず、質問を封じ。そういう政治家たちの挙動を許してきた私たちは、…'>, <Tweet id=1311334986893553664 text='RT @maruki_home: セブンイレブンコラボの面々を見て、このコンビニから無事に帰宅する方法を考えてるんだけど、どう頑張っても帰れる気がしない。 https://t.co/VrY9q73HHZ'>, <Tweet id=1311334986872582150 text='RT @QuizKnockGames: ↓DLはこちらから！↓\\nAndroid\\nhttps://t.co/FCRDvRcO8Y\\niOS\\nhttps://t.co/gPswjib3mg'>, <Tweet id=1311334986860036096 text='@maemiyu555 @GUTSDEVIL @etomoji こ、これは食べられない…( ﾟεﾟ；)リアル過ぎる…ビリ'>, <Tweet id=1311334986859986945 text='ミーアへ\\n\\n5156615112232964'>, <Tweet id=1311334986843217920 text='テレビと真逆のことをしている #どうぶつの森 #AnimalCrossing #ACNH #NintendoSwitch https://t.co/Ppg5Hw3Vi9'>, <Tweet id=1311334986843209733 text='RT @Ma_R8: もうさ。アメリカの大統領選挙の討論会、ヘンにインテリぶるのやめて、プロレス実況アナに仕切らせてって言うか仕切りなんてあってないようなモノで煽りあい罵りあいのマイクバトルにした方が盛り上がるんじゃね？'>, <Tweet id=1311334986838978562 text='RT @TOYO_Loose: 会員様宅に勝手にルースを送る企画\\n「勝手にルースプレゼント」\\n\\n今月は20名に「タンザナイト」を送ります。\\n\\n20名のお宅へタンザナイトを持った郵便局員が勝手に行きますので\\n宜しくお願い致します！笑\\n\\n会員登録は東洋ルースHPのお問い合わせより…'>, <Tweet id=1311334986818052096 text='#原神 \\n飛行免許のためのテストなんだけど、途中でスマホの通知に気をとられてルートを見失うなど。咄嗟にリカバリできた自分をほめたい。 https://t.co/AwxH0UPzBT'>, <Tweet id=1311334986780352512 text='RT @kimetsu_off: 【IMAX®\\u3000上映決定！】\\n10月16日(金)公開の劇場版「鬼滅の刃」無限列車編につきまして、公開初日よりIMAX®でも上映されることが決定いたしました！\\n\\n現在日本にIMAX®が導入されている全38館にて公開予定です！\\n\\n▼詳細はこちら\\nht…'>, <Tweet id=1311334986767724544 text='RT @didd_ley: 3500万円の新作水着ってこんな感じじゃないんです？ https://t.co/9IbO3sdV6x'>, <Tweet id=1311334986767675399 text='半沢直樹と仲良くしてて…………😭😭😭😭'>, <Tweet id=1311334986759335936 text='RT @miyagawa_info: Chima Film Live \"ten.\"\\n【さっぽろアートライブ】\\n\\n10月1日（木）10:00\\nOFFICE CUE 公式You Tubeチャンネルにて無料公開\\nURL：https://t.co/nrd16AHvlC\\n\\nChima F…'>, <Tweet id=1311334986759299074 text='@Hinoki_Shinyo 証言者も不明ですし、どのような内容でどうのような発言をしたのかが分からねば判断しかねますね。\\n「本人が否定している」事実以外は全部推測です。'>, <Tweet id=1311334986734211073 text='@whitewing_tama なら胸は諦めてください！！！！！！！！！！！！！！！！！！！！！！！！！！！！！！'>, <Tweet id=1311334986721550336 text='こだわりがぎゅっとつまった、ファミマの手巻おむすび！ #ファミマのおいしくなったおむすび @famima_now #ファミマ https://t.co/Y7m7G2gesp'>, <Tweet id=1311334986709041152 text='もうかCSたまリザ使ってみたけど火力微妙な気が\\n使われるとえげちぃってなるのに'>, <Tweet id=1311334986708967424 text='@___Merlin__ 本当に可愛いわね……貴女ぁ︎💕︎💕いじめ抜いて、泣いて許しを乞うまでおまんこほじくり返してあげるから……喜びなさい……？︎💕︎💕'>, <Tweet id=1311334986700578816 text='@9zzsz 初対面でクズ呼ばわりされるんだから若干事件だろうよwwwww\\n踊りながら連行されるわ💃💃💃'>, <Tweet id=1311334986688024577 text='RT @tothenorth_aki: 10月1日は #メガネの日\\n\\n集まれメガネ共～\\n\\n#北へ。 #メガネ https://t.co/RiyNK6fEVH'>, <Tweet id=1311334986683830272 text='RT @TMiyataek: 国内の外来侵入害虫の防除次第によっては外圧が強まる。\\n\\n米国が生ジャガ輸入解禁要請\\u3000害虫流入、価格下落…\\u3000心配しかない\\u3000北海道(日本農業新聞)\\n#Yahooニュース\\nhttps://t.co/8BUp82u5Wx'>, <Tweet id=1311334986662854656 text='@fzyoshiro_9x8 地下鉄ポルカのパロのやつ？'>, <Tweet id=1311334986662834176 text='ラビットラビット\\u3000ホワイトラビット🐰\\nもちろん結弦さんにも幸運を✨\\n元気にしていますか？'>, <Tweet id=1311334986637697024 text='炎上したVの者にその子のモチーフ動物のガチﾀﾋ体写真送りつけた奴がいるらしい話聞いて怖くて泣いちゃった\\nいくら向こうに非があったとしてもそこまでする必要ねえだろ'>, <Tweet id=1311334986633543685 text='遠井さん誕生日おめでとう！！\\nこないだまで「遠いさん」で変換でてたのにいつの間にか「遠井さん」で出るようになってる😂'>, <Tweet id=1311334986633457664 text='RT @natsuiromatsuri: はじまんぐーす！！！！！！！！！！\\n\\nhttps://t.co/ZvDJfBoi63'>, <Tweet id=1311334986608308224 text='気付きたくなかった事実ですね………'>, <Tweet id=1311334986591563776 text='@vinushka1999 @1000 僕も未散くんもスニーカーのことだけで1日中語れる勢いなのでまったく緊張しないと思いますー\\n٩(๑❛ᴗ❛๑)۶'>, <Tweet id=1311334986578972673 text='となりの棟のアパートからめっちゃ鼻かむ音聴こえてくるうけ'>, <Tweet id=1311334986570629120 text='香取慎吾の金を全部没収して一笑懸命させたい'>, <Tweet id=1311334986566389760 text='RT @S_alz546: Celvokeのアイブロウパウダーとアイブロウマスカラ！先日購入したのはオレンジブラウンの05で、ピンク〜オレンジのアイシャドウと合わせるといい感じ🧡脱色した眉と合わせると垢抜けそう。\\n感動したのがマスカラ！つけてる感ないのに私の極太眉も眉頭しっかり…'>, <Tweet id=1311334986566385666 text='【乃木恋】9/24 15:00～9/30 23:59\\n\\n★☆第23回彼氏イベント開催☆★\\nアンダー彼氏 in Halloween \\n～彼氏争奪！恋人ハロウィンパーティー～\\n\\n彼女と恋人になれるのは誰だ？！\\n\\n彼氏特典は…\\n乃木恋でしか手に入らない限定特典！\\n『羽織れる！サイン入り彼氏タオル』\\n\\n#乃木恋\\nhttps://t.co/8Bxs21gEoa'>, <Tweet id=1311334986566348800 text='は？なにこれ好き笑 https://t.co/txtcbXXjj1'>, <Tweet id=1311334986562154497 text='じろせんせ\\nわかい\\nういういしい\\nねくたいこのときからこのがらか\\nわかい'>, <Tweet id=1311334986545393664 text='明日ひなに会って何の話すればいいんだろ\\n何も出てこないや'>, <Tweet id=1311334986541199360 text='RT @skyrecosplay: 背中とバスターソードに仕込んだ磁石で材料費万越え\\n#自作衣装正気の沙汰じゃない選手権 https://t.co/VgbKER3b63'>, <Tweet id=1311334986537148417 text='RT @animatetimes: #東山奈央 さんがゲスト声優として出演！\\n\\n『鷹の爪団のＪＢＣ大作戦～恋のＲｏａｄ ｔｏ ＪＢＣ～』東京シティ競馬コラボWEBアニメシリーズが開始！ https://t.co/JO101hNfEx #鷹の爪'>, <Tweet id=1311334986528645121 text='RT @hiruobi_staff: 明日10/1(木)のひるおび!はBTSを大特集!\\n「Dynamite」がビルボードHOT100で今週再び1位を獲得。快進撃を続ける彼らはなぜ世界中の人々を魅了するのか？栄光の奇跡を映像と音楽で振り返りながらBTSの人気に迫ります!\\n#TBS…'>, <Tweet id=1311334986516111360 text='@maru3maru3 そうですねー\\nやっと本来の使い方に'>, <Tweet id=1311334986461507584 text='@leon_game_SV 一応行ける準備だけしとくんで、やるかやらないかの決断は丸投げしますw'>, <Tweet id=1311334986453196800 text='RT @MH_official_JP: モンスターハンターワールド：アイスボーン×ユニバーサル・スタジオ・ジャパンのコラボレーション装備が登場。10月1日（木）から期間限定で開催されるスペシャルコラボクエストをプレイして装備の生産に必要な素材やコラボ特典を手に入れよう！\\nhtt…'>, <Tweet id=1311334986444804098 text='RT @Genshin_7: 【重要】\\niOS版『原神』のクリップボード関連不具合のご報告と修正について、詳細は以下よりご確認ください。\\n\\n▼詳細\\nhttps://t.co/RSNAkIw34O\\n\\n #原神 #Genshin #miHoYo https://t.co/fYqCL…'>, <Tweet id=1311334986444804096 text='右の画像、誰！？ってなるくらい本当に誰！？だった。初々しいー……山下ぜんぜぇ……プロデューサーを夢女にさせないでください……😭＞RT'>, <Tweet id=1311334986436337665 text='RT @_3x23: 「でこぼこ魔女の親子事情」11話が更新されました！今回はファンタジー漫画らしくエルフの里の実態に迫る社会派なお話です。どうぞよろしくお願いします！\\nhttps://t.co/ay0YVfnuxW https://t.co/SPZi0TfSyO'>, <Tweet id=1311334986402861057 text='オケ後の#ぶ\\u30003150だわぁ\\n店主いつもアイコンタクトして下さるときおまけがついてて嬉しい😊 https://t.co/MghL20LAAF'>, <Tweet id=1311334986365063169 text='山下次郎の若い頃の画像見て友達と発狂したんだけど、隣のおじいちゃん先生の格好が教師してた時の次郎ちゃんの格好と同じって気が付いて友達に指さしで教えたらドラミングし始めてカラオケで泣くほど笑った'>, <Tweet id=1311334986335707142 text='10月5日に光TVとかいう訳分からんとこの抽選結果くるからそれまで見捨てられたままでいいや、おやすみ😴'>, <Tweet id=1311334986335674369 text='@orange_hako 全部のツイにリプ投げたくなりましたね朔間零がいい変態ですよ'>, <Tweet id=1311334986302320640 text='作るのは好きなんですがコソコソしすぎて疲れちゃったんだよね😓\\u3000今後は雇われの身でしばらくは凌ぐとする。'>, <Tweet id=1311334986297954309 text='@rin_kmpr すごww\\nなるほどねw\\nランクと段位って今いくつまで上がるの？'>, <Tweet id=1311334986285416450 text='RT @888hx4096hx963h: 朝食を\\n摂るようになった人から\\n病気がちになっているのです\\n\\nデトックスタイムが\\n朝食で\\nつぶされ\\n\\n腸が\\nきれいに\\nならないからです\\n\\n朝食は\\nbreakfast（ファスティングを破る）と書くのです\\n\\n⭕️⭕️\\n\\n松果体は\\n腸が\\nピカ…'>, <Tweet id=1311334986264399872 text='RT @m_OnQ: そう、お昼になったのでもう一回言わせていただくと、ミライアカリちゃんの新衣装をデザインしたのは…なんと私です… https://t.co/TlSpV3QXh3'>, <Tweet id=1311334986251821056 text='RT @matsu_noya: アジフライ＆カキフライ発売記念キャンペーン開催中‼️\\n本日15時より肉厚大判のアジフライ＆旨味濃縮のカキフライの各種定食が発売開始します😋\\n\\n発売を記念してお食事券5枚を10名様にプレゼント🎁\\n\\n【応募ルール】\\n① @matsu_noyaをフォロ…'>, <Tweet id=1311334986251776001 text='@KourannBlue さねぎゆ界の宝なのに？！みんなに見てもらいたいです！おすすめしたいので支部によろしくお願いします😫\\n私は野菜売り場のおばちゃんになって野菜陳列してるふりしながら舐め回すようにみたいれす😚'>, <Tweet id=1311334986247667712 text='RT @ikumi_ysn: いとこのお姉ちゃんは結婚する気なく仕事に没頭していた33歳の時に７つ下のイケメンに声を掛けられそのまま結婚したんやけど、嫁一筋で努力家の旦那は勝手に大出世し子供達を某私学へ入れ結婚から15年経った今も「嫁ちゃんだいすき！」とクソデカ花束持って愛を叫…'>, <Tweet id=1311334986235043842 text='コンパスも最初っからになってるし…がちなき🥺🥺🥺🥺'>, <Tweet id=1311334986230804481 text='@Tj4YRAJyhEjT2xA 明け方までガッツリとクラバトしてた方が癒し(睡眠時間)を求めて規則が緩々なクランに移動したり、4桁後半以降のクランの方が物足りなくなって４段回目のボス戦に挑むために4桁前半か3桁のクランに移動したり、クラバトで取れる称号を求めて2桁のクランに移動したりなどですね😀'>, <Tweet id=1311334986226647044 text='悔しいが…キムチは食いたくないけどキムチ納豆を食うと体調がすこぶる良くなる。しかも本場韓国製のキムチのほうが旨いというこの事実…'>, <Tweet id=1311334986226626561 text='@moyu_shiratama さいきん配信いっぱい来てくれてうれいです🐶🎀すきほ'>, <Tweet id=1311334986218221568 text='RT @tx_rentalsan: #レンタルなんもしない人\\nご視聴ありがとうございました‼️\\n\\nいかがでしたでしょうか✨？\\n少しでも皆さんの癒しになっていたなら嬉しいです☺️💕\\n\\n最後にレンタルさん(#増田貴久)と #ナナナ 恒例の“なんもしない動画”をどうぞ🧢\\n\\n#比嘉愛未…'>, <Tweet id=1311334986214064128 text='週に3本くらい見るのが限界なんだけど見たいアニメ10本くらいある、ヤバい'>, <Tweet id=1311334986209923072 text='RT @leiaskrb: ●またかよ(4/4)\\n「いっしょに故郷に戻ろう。」\\nラフラフかよ！（歓喜）\\nFIN. https://t.co/BLUVuRv95b'>, <Tweet id=1311334986184761346 text='河合くんのやつ関西でも放送されることになって嬉しい！'>, <Tweet id=1311334986184712193 text='@p9_r8 心やさしい鬼ですよわたしは\\u3000今日のはマジで出目の事故でしたもん…'>, <Tweet id=1311334986167926785 text='@lycanthropy_s ※虚無\\n#君の恋人抱きしめていいか聞かれたうちの子の反応\\n「なんで俺に聞くわけぇ？それ答えるの俺じゃないでしょ」(本当はめちゃくちゃ嫌)(止め方が分からない)'>, <Tweet id=1311334986159501313 text='原神やり込みすぎてやばい。26レベまで行ってもうた'>, <Tweet id=1311334986130186241 text=\"@U_birthdayKing ヤスダスズヒトが好きなので\\n「ブーツレグ」お勧めしたい\\nバトルとかではないけど\\n「懲役339年」ストーリー面白いのでお勧め\\nあとは「IT'S MY LIFE」とか\">, <Tweet id=1311334986130141190 text='@KS_koto_Loooser そだよっ！！！！'>, <Tweet id=1311334986109259776 text='SSRよりSRのが進化の難易度が遥かに高いという現象が.......'>, <Tweet id=1311334986096623616 text='わたしちこくま'>, <Tweet id=1311334986092630026 text='ビールを飲みながらあちこちオードリー'>, <Tweet id=1311334986088292352 text='私の絵心のなさが集約したモーニングトースト https://t.co/fV4e82JX6M'>, <Tweet id=1311334986088235008 text='RT @Genshin_7: 【#原神 リリース記念キャンペーン 第2弾】\\nジン役 #斎藤千和 さん、リサ役 #田中理恵 さん豪華声優陣のサイン色紙や、グッズ、Amazonギフト券が当たるチャンス！\\n\\n▼参加方法\\n①@Genshin_7をフォロー\\n②本ツイートをRT\\n\\n締切：1…'>, <Tweet id=1311334986084020224 text='メンテ開けの無償10連引かなかったの、何をやってもダメなやつの典型。ほんと仕事でも使えないし、男としてもダメダメ。もはや生きる価値もあんまりない。まぁ全部は言い過ぎだけとそこまで強く否定する意味もない。'>, <Tweet id=1311334986046476294 text='@lucky_smile_no3 \\nこの度はご参加いただきありがとうございます！\\n\\n当選結果は・・・動画を確認してね！\\n\\n▼アプリダウンロードはこちら\\nhttps://t.co/SA3hmXqLiN https://t.co/DKVxa9aLke'>, <Tweet id=1311334986025512968 text='RT @mgmi_2: #レンタルなんもしない人 最終回までお疲れ様でした！\\n\\n一人ぶんの存在の大切さ尊さを考えさせられる素敵なドラマでした。\\n深くて静かで穏やかで優しくて毎週心を救われました。\\n\\n円盤も勿論買います！最高のドラマをありがとうございました🌟 https://t.…'>, <Tweet id=1311334986008600584 text='RT @masanorinaito: アルメニアのパシニャン首相、ロシアの即時停戦と和平会議の要求を「現段階では不適切」と拒否→今回の衝突はアルメニアの暴走か？ https://t.co/dLaAbUdqkU'>, <Tweet id=1311334986004406272 text='最後に立ち上がるのは自分だ'>, <Tweet id=1311334985991815168 text='RT @seihaigurgur: FGO 伝説級をイアメディさんで周回するとびっくりするほど上手く３ターンできるよって話 https://t.co/10GQnDnpbW'>, <Tweet id=1311334985958268928 text='リン被り3枚目やねんけど（） https://t.co/q0nWvzDAuq'>, <Tweet id=1311334985958187008 text='RT @kyodo_official: 給食牛乳にネズミ死骸 － 山形、予備の瓶に混入か\\nhttps://t.co/5fZOMV5lYo'>, <Tweet id=1311334985949786112 text='RT @Official_LAJP: 【10/1（木）分】\\n\\n#ロストアーク_サービス開始\\n\\n『LOST ARK』オープンサービス記念！ゲーミングPCが抽選で当たる🎁\\nこのアカウント（@Official_LAJP）をフォロー＆RTで応募！\\n\\n🔽詳細はこちら\\nhttps://t.…'>, <Tweet id=1311334985945710593 text='莇の誕生日カードがえちえち過ぎて死んだｗｗｗヤバすぎるｗｗｗ'>, <Tweet id=1311334985924636674 text='RT @matomenaver: NAVERまとめは2020年9月30日をもちまして、サービスを終了いたしました。\\n11年もの長きにわたりご愛顧いただき、本当にありがとうございました！\\n\\n※支払い申請はログイン後にご利用いただけます（PCのみ）\\nhttps://t.co/mUt…'>, <Tweet id=1311334985920471041 text='RT @suikentsukai: ゆりもこです\\n#わたモテ https://t.co/jvJR32zOuU'>, <Tweet id=1311334985912123400 text='「三位一体の法輪」ください！！\\n#デジモンカードゲーム https://t.co/LbqVwGyPbU'>], includes={'users': [<User id=1099075153411993600 name=Takamiya username=indigo_Pleiades>, <User id=185783011 name=ハッピーカズヤマ username=_kazuyama>, <User id=1065116950211129344 name=おかし(R-18) username=cheap_compact>, <User id=1272656912 name=椿 username=tbk0303>, <User id=465531497 name=ジャイアントアンジェラ username=007Akemi>, <User id=1251023826399313921 name=Azumi Tsuchida username=___azumyplaying>, <User id=384874903 name=Pombe username=Pombe18>, <User id=745797696162660352 name=みみたん username=2mtmimi>, <User id=779913687251423232 name=もみい username=Momie_Baby>, <User id=1224877258403278848 name=ドラゴンクエストタクト公式 username=DQ_TACT>, <User id=1119580808124088320 name=みろ username=koke_miro_>, <User id=848210520616206338 name=εїз username=iamnananana_>, <User id=915528826196598785 name=とびねこ username=ik5_d>, <User id=804328356 name=結花 username=y1ka_03>, <User id=1209449012194996233 name=ムーンライト username=YI6gJzeFe6z5hNH>, <User id=1140645783252770816 name=Mr.ダンボールDaンディ | 大光紙工 3代目♻ ｜Ezaki タカシ username=ds_5710007>, <User id=1036099372327419904 name=宿り木 username=mrc8n>, <User id=4334939054 name=しゅうまい username=shuumai_seiro>, <User id=103296120 name=A͓̽y͓̽🇺🇦(cv.天龍源一郎)💉💉💉💉𓃹うさぎ㌠(° ꈊ °)𓍯ོ🐰 username=ayakopiluak>, <User id=938651574003367937 name=デクもるかー username=dekunobou01>, <User id=411393863 name=佐藤大翔 username=SugarSatou>, <User id=1120626848986091520 name=おみそ username=OMiso_777r>, <User id=4600643300 name=鮎崎カズヤ@秋はのんびり造るます。 username=ayukazum4mws>, <User id=878824602276737025 name=くとす username=kutosun>, <User id=1027472544 name=T.H username=TJorker>, <User id=204783000 name=GONZO ゴンゾー(本名:寺社下峻平) Tambourine master username=GonzoTambourine>, <User id=4675961053 name=ハスキー username=husky_ichu>, <User id=1299246922524368896 name=芋っち username=JGWDPW>, <User id=1262913948141010944 name=かりぶ username=hirubeercalib>, <User id=1299202313408528384 name=ヒロインXX username=Oj02400053X>, <User id=1194240142073925632 name=Karl username=aztro_440>, <User id=3284180377 name=ヤジュカル username=yasai_nyusan>, <User id=717969651964116992 name=quikki username=riamqquikki>, <User id=133864585 name=バイト初心者しん username=shin_pomi>, <User id=2504507142 name=りり username=lily__yuzu>, <User id=471761736 name=(六x・) username=6teikoku>, <User id=1163406195857612800 name=‼️‼️固ツイ見てください‼️‼️ username=b___023>, <User id=1296357026168094721 name=黎明之ツバサ ☃🛸💜🎣💯 username=StX5GzySVRukIgz>, <User id=153378411 name=Fﾔﾏﾝ username=akinai_now>, <User id=2184427260 name=小笠原 健一@11.03(祝) EDGE Ikebukuro username=kentan_vijyu>, <User id=3107553240 name=かな username=MaineDish_Fish>, <User id=128533077 name=ぼくそん@リバウンド username=chin2bin2pan2_O>, <User id=1101164100661309440 name=つき username=ko_ko2001>, <User id=1277558073972781057 name=さゆ◢⁴⁶（　齋藤ゆーくん　） username=yuga79200101>, <User id=1116128638087262209 name=リョオ username=ryo_loveit36>, <User id=4071103754 name=凪沙 username=calma_sand>, <User id=933167952089661450 name=時雨 username=Shigure_Asada>, <User id=273977881 name=炎手（えんじゅ@左手とネコ） username=ENJU920>, <User id=3500845393 name=葉月 夏生（KASEI HADUKI） username=KaseiYang>, <User id=2765685860 name=亜矢 username=xiaya0310>, <User id=70657302 name=ワンダーパーラー　クラシカルメイド® username=wonderparlour>, <User id=4781833934 name=pamda 構築記事は教科書 username=pamda_nova>, <User id=846420832016465920 name=もっちゃっちゃー username=mottyattya_tbk>, <User id=1087157618655715328 name=ニケ username=reirei1974>, <User id=128582349 name=あしろ username=_ashiro_>, <User id=819338997885304832 name=コマミン@趣味垢 username=nao_fgo>, <User id=895278481 name=Kanau Ariga 有賀 叶/ 🎻vn&🎻va username=Kanau_Ariga>, <User id=713410385643053056 name=茅架(ちか)🏰🕛 username=yuri_okashi>, <User id=1271467787429351425 name=おちゃ username=Ochapachaba>, <User id=1285118255065993217 name=たのこ_ username=tanoko715>, <User id=968711127113887745 name=kusano　メディカル username=kusanoman>, <User id=980423480062586880 name=蓮(#)🌟 username=ReN_yzR>, <User id=218728204 name=…水月… username=MoonCross_>, <User id=1028622400743661568 name=十五夜CQB username=YAYAYA45639995>, <User id=323242581 name=ndrkst username=ndrkst>, <User id=1051057444829319168 name=No.0039（みく）＊12/18ごはんｱﾝｿﾛ username=Code_0039>, <User id=2274750008 name=👼🏻 username=melf_kd>, <User id=1306250185941463040 name=m username=mea1_22_>, <User id=1267662003851517952 name=ランドソル市民 username=randsolshimin>, <User id=1258224067930288128 name=KAMADA Kazuo username=kamada_kazuo>, <User id=1062678417261289472 name=香山ゆきほ【花いろは】全国ツアー中❕ username=kym_yukipo>, <User id=4838589192 name=ビチグソちゃん username=0o_yxa_o0>, <User id=790181756280246272 name=げんとぅ✨🍵 username=tsubasa874live>, <User id=547841754 name=ケソスタ username=21th_kesosuta>, <User id=544265572 name=美來-ﾐﾗｲ- username=mirai_ars_inir>, <User id=560406557 name=イズナウェイ username=dokasu_127>, <User id=1087998394646347777 name=🤦‍♀️ﾊｯﾋﾟｬｸ🤦‍♀️返信遅 username=ttt_ss666>, <User id=1118769538391166976 name=saQ🐼 username=Aa_sa9saq10>, <User id=926967211 name=DΛTΣ/伊達 username=date_foy>, <User id=1216737233052426240 name=楓霖🍀♻️ username=Loooser_9>, <User id=1143416334828445696 name=おむ username=aug_om>, <User id=1118494506192490496 name=まちゃまちゃ username=LklrYScFZZeHHet>, <User id=252015233 name=アレックス🌸Alexandre Fournier username=LeKurita>, <User id=2821759850 name=いぬあり username=inumarble23ds>, <User id=787838197250220032 name=ががが@ゲーム垢 username=garopen>, <User id=97788188 name=もんばん username=Mon_ban>, <User id=901723026215063553 name=AbbyMassu username=abbyRavenclaw>, <User id=1312833541 name=kskao username=kskao1>, <User id=1618211418 name=忙しマンのでぅけんき𓅚The journey never ends username=the_lightavian>, <User id=904701094726516736 name=みつき username=KOKI_MPG041>, <User id=998938837131837440 name=やまがた？ username=MlLiVE_yamagata>, <User id=2807215998 name=都市喵 username=toshineko1049>, <User id=1428810458 name=ゼノビィ username=zenovey>, <User id=830144865396748288 name=💮春実@永遠にハロウィン🎃👻 username=porpoise_galaxy>, <User id=560338238 name=えふ username=Fdpi69>, <User id=1045700820753235968 name=biti username=watamotedaisuki>, <User id=98458761 name=暇サイクル username=hima_cycle>], 'media': [<Media media_key=3_1311334983290687488 type=photo>, <Media media_key=3_1311334983328362496 type=photo>, <Media media_key=3_1311334983378767873 type=photo>, <Media media_key=3_1311334983408037890 type=photo>, <Media media_key=7_1308974778959753217 type=video>, <Media media_key=3_1311330770095538177 type=photo>, <Media media_key=3_1311330770099736577 type=photo>, <Media media_key=3_1311330770099740673 type=photo>, <Media media_key=3_1310587584154804224 type=photo>, <Media media_key=3_1311334984834117633 type=photo>, <Media media_key=7_1311334828080427009 type=video>, <Media media_key=3_1311333399815008256 type=photo>, <Media media_key=3_1311324187953229824 type=photo>, <Media media_key=3_1311324292219502592 type=photo>, <Media media_key=3_1311324368635441152 type=photo>, <Media media_key=3_1311324711939272709 type=photo>, <Media media_key=3_1311334982669885440 type=photo>, <Media media_key=7_1310919968343511041 type=video>, <Media media_key=3_1311162107866480640 type=photo>, <Media media_key=3_1311162124371075072 type=photo>, <Media media_key=3_1311162138728177664 type=photo>, <Media media_key=3_1311162151638163458 type=photo>, <Media media_key=3_1311334964852482050 type=photo>, <Media media_key=3_1311334965020303360 type=photo>, <Media media_key=3_1311142203050221568 type=photo>, <Media media_key=3_1252712816319950848 type=photo>, <Media media_key=3_1252712838860177408 type=photo>, <Media media_key=3_1311334980111351809 type=photo>, <Media media_key=3_1311252174211440640 type=photo>, <Media media_key=3_1311252193769435141 type=photo>, <Media media_key=3_1311252211796590592 type=photo>, <Media media_key=3_1311252242280796160 type=photo>, <Media media_key=3_1311334982032355328 type=photo>, <Media media_key=3_1311279961597075461 type=photo>, <Media media_key=3_1311279961798443011 type=photo>, <Media media_key=3_1311279961798373376 type=photo>, <Media media_key=3_1311334816709660673 type=photo>]}, errors=[], meta={'newest_id': '1311334987048734720', 'oldest_id': '1311334985912123400', 'result_count': 98, 'next_token': 'b26v89c19zqg8o3fos8ss9adi5kn50lqf82azvwvwg399'})]"
      ]
     },
     "execution_count": 12,
     "metadata": {},
     "output_type": "execute_result"
    }
   ],
   "source": [
    "list_tweets"
   ]
  }
 ],
 "metadata": {
  "kernelspec": {
   "display_name": "Python 3.8.13 ('SharedTask')",
   "language": "python",
   "name": "python3"
  },
  "language_info": {
   "codemirror_mode": {
    "name": "ipython",
    "version": 3
   },
   "file_extension": ".py",
   "mimetype": "text/x-python",
   "name": "python",
   "nbconvert_exporter": "python",
   "pygments_lexer": "ipython3",
   "version": "3.8.13"
  },
  "orig_nbformat": 4,
  "vscode": {
   "interpreter": {
    "hash": "6feaf4af813783365efc585a6800850988678764fcb0bba12eca45fe4d31fdb0"
   }
  }
 },
 "nbformat": 4,
 "nbformat_minor": 2
}
