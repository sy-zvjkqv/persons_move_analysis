{
 "cells": [
  {
   "cell_type": "code",
   "execution_count": 10,
   "metadata": {},
   "outputs": [
    {
     "name": "stderr",
     "output_type": "stream",
     "text": [
      "The tokenizer class you load from this checkpoint is not the same type as the class this function is called from. It may result in unexpected tokenization. \n",
      "The tokenizer class you load from this checkpoint is 'BertJapaneseTokenizer'. \n",
      "The class this function is called from is 'BertTokenizer'.\n"
     ]
    }
   ],
   "source": [
    "import os\n",
    "import numpy as np\n",
    "import pandas as pd\n",
    "from simpletransformers.classification import ClassificationModel, ClassificationArgs\n",
    "import logging\n",
    "from sklearn.model_selection import train_test_split\n",
    "import torch\n",
    "import random\n",
    "from tqdm import tqdm\n",
    "from torch.utils.data import DataLoader\n",
    "from transformers import BertTokenizer, BertForSequenceClassification\n",
    "import pytorch_lightning as pl\n",
    "from sklearn.preprocessing import LabelEncoder\n",
    "from torch import nn\n",
    "import torch.nn.functional as F\n",
    "from transformers import AutoModel\n",
    "from transformers import BertModel\n",
    "os.environ[\"CUDA_VISIBLE_DEVICES\"]='0'\n",
    "tokenizer = BertTokenizer.from_pretrained('cl-tohoku/bert-base-japanese-whole-word-masking')\n",
    "MODEL_NAME='cl-tohoku/bert-base-japanese-whole-word-masking'\n",
    "batch=1"
   ]
  },
  {
   "cell_type": "code",
   "execution_count": 2,
   "metadata": {},
   "outputs": [],
   "source": [
    "df_one_month = pd.read_csv('/home/is/shuntaro-o/dev/persons_move_analysis/data/08month.csv')\n",
    "df_one_day = pd.read_csv('/home/is/shuntaro-o/dev/persons_move_analysis/data/0801.csv')"
   ]
  },
  {
   "cell_type": "code",
   "execution_count": 11,
   "metadata": {},
   "outputs": [
    {
     "name": "stderr",
     "output_type": "stream",
     "text": [
      "The tokenizer class you load from this checkpoint is not the same type as the class this function is called from. It may result in unexpected tokenization. \n",
      "The tokenizer class you load from this checkpoint is 'BertJapaneseTokenizer'. \n",
      "The class this function is called from is 'BertTokenizer'.\n"
     ]
    }
   ],
   "source": [
    "tokenizer = BertTokenizer.from_pretrained('cl-tohoku/bert-base-japanese-whole-word-masking')\n",
    "code_estimate_model_path = '/home/is/shuntaro-o/SharedTask_main/地理コード/Tokyo/model/epoch=2-step=2400000.ckpt'\n",
    "\n",
    "class BertForSequenceClassifier_pl(pl.LightningModule):\n",
    "    def __init__(self, model_name, lr, num_class):\n",
    "        # model_name: Transformersのモデルの名前\n",
    "        # num_labels: ラベルの数\n",
    "        # lr: 学習率\n",
    "\n",
    "        super().__init__()\n",
    "        # 引数のnum_labelsとlrを保存。\n",
    "        # 例えば、self.hparams.lrでlrにアクセスできる。\n",
    "        # チェックポイント作成時にも自動で保存される。\n",
    "        self.save_hyperparameters()\n",
    "\n",
    "        # BERTのロード\n",
    "        self.bert = BertModel.from_pretrained(model_name)\n",
    "        self.classifier = nn.Linear(self.bert.config.hidden_size, num_class)\n",
    "        self.criterion = nn.CrossEntropyLoss()\n",
    "\n",
    "        # BertLayerモジュールの最後を勾配計算ありに変更\n",
    "        for param in self.bert.parameters():\n",
    "            param.requires_grad = False\n",
    "        for param in self.bert.encoder.layer[-1].parameters():\n",
    "            param.requires_grad = True\n",
    "\n",
    "    def forward(self, input_ids, attention_mask, labels=None):\n",
    "        output = self.bert(input_ids, attention_mask=attention_mask)\n",
    "        preds= self.classifier(output.pooler_output)\n",
    "        loss = 0\n",
    "        if labels is not None:\n",
    "            loss = self.criterion(preds, labels)\n",
    "        #print(f\"tihi is {loss}\")\n",
    "        return loss, preds\n",
    "\n",
    "    # trainのミニバッチに対して行う処理\n",
    "    def training_step(self, batch, batch_idx):\n",
    "        loss, preds = self.forward(input_ids=batch[\"input_ids\"],\n",
    "                                    attention_mask=batch[\"attention_mask\"],\n",
    "                                    labels=batch[\"labels\"])\n",
    "        self.log('train_loss', loss)\n",
    "        return {'loss': loss,\n",
    "                'batch_preds': preds,\n",
    "                'batch_labels': batch[\"labels\"]}\n",
    "\n",
    "    # validation、testでもtrain_stepと同じ処理を行う\n",
    "    def validation_step(self, batch, batch_idx):\n",
    "        loss, preds = self.forward(input_ids=batch[\"input_ids\"],\n",
    "                                    attention_mask=batch[\"attention_mask\"],\n",
    "                                    labels=batch[\"labels\"])\n",
    "        return {'loss': loss,\n",
    "                'batch_preds': preds,\n",
    "                'batch_labels': batch[\"labels\"]}\n",
    "\n",
    "    def test_step(self, batch, batch_idx):\n",
    "        loss, preds = self.forward(input_ids=batch[\"input_ids\"],\n",
    "                                    attention_mask=batch[\"attention_mask\"],\n",
    "                                    labels=batch[\"labels\"])\n",
    "        return {'loss': loss,\n",
    "                'batch_preds': preds,\n",
    "                'batch_labels': batch[\"labels\"]}\n",
    "\n",
    "    # epoch終了時にvalidationのlossとaccuracyを記録\n",
    "    def validation_epoch_end(self, outputs, mode=\"val\"):\n",
    "        # loss計算\n",
    "        epoch_preds = torch.cat([x['batch_preds'] for x in outputs])\n",
    "        epoch_labels = torch.cat([x['batch_labels'] for x in outputs])\n",
    "        epoch_loss = self.criterion(epoch_preds, epoch_labels)\n",
    "        self.log(f\"{mode}_loss\", epoch_loss, logger=True)\n",
    "\n",
    "        num_correct = (epoch_preds.argmax(dim=1) == epoch_labels).sum().item()\n",
    "        epoch_accuracy = num_correct / len(epoch_labels)\n",
    "        self.log(f\"{mode}_accuracy\", epoch_accuracy, logger=True)\n",
    "\n",
    "\n",
    "    # testデータのlossとaccuracyを算出（validationの使いまわし）\n",
    "    def test_epoch_end(self, outputs):\n",
    "        return self.validation_epoch_end(outputs, \"test\")\n",
    "\n",
    "    # 学習に用いるオプティマイザを返す関数を書く。\n",
    "    def configure_optimizers(self):\n",
    "        return torch.optim.Adam(self.parameters(), lr=self.hparams.lr)"
   ]
  },
  {
   "cell_type": "code",
   "execution_count": 19,
   "metadata": {},
   "outputs": [
    {
     "name": "stderr",
     "output_type": "stream",
     "text": [
      "Some weights of the model checkpoint at cl-tohoku/bert-base-japanese-whole-word-masking were not used when initializing BertModel: ['cls.predictions.transform.LayerNorm.weight', 'cls.seq_relationship.weight', 'cls.predictions.transform.dense.bias', 'cls.predictions.transform.dense.weight', 'cls.predictions.bias', 'cls.predictions.decoder.weight', 'cls.seq_relationship.bias', 'cls.predictions.transform.LayerNorm.bias']\n",
      "- This IS expected if you are initializing BertModel from the checkpoint of a model trained on another task or with another architecture (e.g. initializing a BertForSequenceClassification model from a BertForPreTraining model).\n",
      "- This IS NOT expected if you are initializing BertModel from the checkpoint of a model that you expect to be exactly identical (initializing a BertForSequenceClassification model from a BertForSequenceClassification model).\n"
     ]
    }
   ],
   "source": [
    "ans_labels = [523871, 523872, 523873, 523874, 523875, 523876, 523877, 523970,\n",
    "       523971, 523972, 523973, 523974, 523975, 523976, 523977, 533800,\n",
    "       533802, 533803, 533804, 533805, 533806, 533807, 533811, 533812,\n",
    "       533813, 533814, 533815, 533816, 533817, 533820, 533821, 533822,\n",
    "       533823, 533824, 533825, 533826, 533827, 533830, 533831, 533832,\n",
    "       533833, 533834, 533835, 533836, 533837, 533840, 533841, 533842,\n",
    "       533843, 533844, 533845, 533846, 533847, 533850, 533851, 533852,\n",
    "       533853, 533854, 533855, 533856, 533857, 533860, 533861, 533862,\n",
    "       533863, 533864, 533865, 533866, 533867, 533870, 533871, 533872,\n",
    "       533873, 533874, 533875, 533876, 533877, 533900, 533901, 533902,\n",
    "       533903, 533904, 533905, 533906, 533907, 533910, 533911, 533912,\n",
    "       533913, 533914, 533915, 533916, 533917, 533920, 533921, 533922,\n",
    "       533923, 533924, 533925, 533926, 533927, 533930, 533931, 533932,\n",
    "       533933, 533934, 533935, 533936, 533937, 533940, 533941, 533942,\n",
    "       533943, 533944, 533945, 533946, 533947, 533950, 533951, 533952,\n",
    "       533953, 533954, 533955, 533956, 533957, 533960, 533961, 533962,\n",
    "       533963, 533964, 533965, 533966, 533967, 533970, 533971, 533972,\n",
    "       533973, 533974, 533975, 533976, 533977, 543800, 543801, 543802,\n",
    "       543803, 543804, 543805, 543806, 543807, 543810, 543811, 543812,\n",
    "       543813, 543814, 543815, 543816, 543817, 543820, 543821, 543822,\n",
    "       543823, 543824, 543825, 543826, 543827, 543837, 543900, 543901,\n",
    "       543902, 543903, 543904, 543905, 543906, 543907, 543910, 543911,\n",
    "       543912, 543913, 543914, 543915, 543916, 543917, 543920, 543921,\n",
    "       543922, 543923, 543924, 543925, 543926, 543927, 544010, 544020]\n",
    "sentences_text_test=df_one_day.text.values\n",
    "i=0\n",
    "estimation=[]\n",
    "model = BertForSequenceClassifier_pl.load_from_checkpoint(code_estimate_model_path)\n",
    "bert=model.bert.cuda()\n",
    "classifier=model.classifier.cuda()\n",
    "for sentence in sentences_text_test:\n",
    "    text=sentence\n",
    "    encoding = tokenizer(\n",
    "    text,\n",
    "    max_length = 107,           # 文章の長さを固定（Padding/Trancatinating）\n",
    "    pad_to_max_length = True,# PADDINGで埋める\n",
    "    truncation=True,\n",
    "    padding = 'longest',\n",
    "    return_tensors='pt')\n",
    "    encoding = { k: v.cuda() for k, v in encoding.items() }\n",
    "    with torch.no_grad():\n",
    "        output = bert(**encoding)\n",
    "        ans=classifier(output.pooler_output)\n",
    "        ans = ans.to('cpu').detach().numpy().copy()\n",
    "        ans=np.argmax(ans)\n",
    "        convert_ans = ans_labels[ans]\n",
    "        estimation.append(convert_ans)"
   ]
  },
  {
   "cell_type": "code",
   "execution_count": 23,
   "metadata": {},
   "outputs": [],
   "source": [
    "estimation=pd.Series(estimation)\n",
    "df_one_day=pd.concat([df_one_day,estimation],axis=1)\n",
    "df_one_day=df_one_day.rename(columns={0: 'code_estimation'})"
   ]
  },
  {
   "cell_type": "code",
   "execution_count": 27,
   "metadata": {},
   "outputs": [],
   "source": [
    "df_one_day.to_csv('/home/is/shuntaro-o/dev/persons_move_analysis/data/08month_ad_estimation.csv')"
   ]
  },
  {
   "cell_type": "code",
   "execution_count": 29,
   "metadata": {},
   "outputs": [
    {
     "name": "stderr",
     "output_type": "stream",
     "text": [
      "Some weights of the model checkpoint at cl-tohoku/bert-base-japanese-whole-word-masking were not used when initializing BertModel: ['cls.predictions.transform.LayerNorm.weight', 'cls.seq_relationship.weight', 'cls.predictions.transform.dense.bias', 'cls.predictions.transform.dense.weight', 'cls.predictions.bias', 'cls.predictions.decoder.weight', 'cls.seq_relationship.bias', 'cls.predictions.transform.LayerNorm.bias']\n",
      "- This IS expected if you are initializing BertModel from the checkpoint of a model trained on another task or with another architecture (e.g. initializing a BertForSequenceClassification model from a BertForPreTraining model).\n",
      "- This IS NOT expected if you are initializing BertModel from the checkpoint of a model that you expect to be exactly identical (initializing a BertForSequenceClassification model from a BertForSequenceClassification model).\n"
     ]
    }
   ],
   "source": [
    "ans_labels = [523871, 523872, 523873, 523874, 523875, 523876, 523877, 523970,\n",
    "       523971, 523972, 523973, 523974, 523975, 523976, 523977, 533800,\n",
    "       533802, 533803, 533804, 533805, 533806, 533807, 533811, 533812,\n",
    "       533813, 533814, 533815, 533816, 533817, 533820, 533821, 533822,\n",
    "       533823, 533824, 533825, 533826, 533827, 533830, 533831, 533832,\n",
    "       533833, 533834, 533835, 533836, 533837, 533840, 533841, 533842,\n",
    "       533843, 533844, 533845, 533846, 533847, 533850, 533851, 533852,\n",
    "       533853, 533854, 533855, 533856, 533857, 533860, 533861, 533862,\n",
    "       533863, 533864, 533865, 533866, 533867, 533870, 533871, 533872,\n",
    "       533873, 533874, 533875, 533876, 533877, 533900, 533901, 533902,\n",
    "       533903, 533904, 533905, 533906, 533907, 533910, 533911, 533912,\n",
    "       533913, 533914, 533915, 533916, 533917, 533920, 533921, 533922,\n",
    "       533923, 533924, 533925, 533926, 533927, 533930, 533931, 533932,\n",
    "       533933, 533934, 533935, 533936, 533937, 533940, 533941, 533942,\n",
    "       533943, 533944, 533945, 533946, 533947, 533950, 533951, 533952,\n",
    "       533953, 533954, 533955, 533956, 533957, 533960, 533961, 533962,\n",
    "       533963, 533964, 533965, 533966, 533967, 533970, 533971, 533972,\n",
    "       533973, 533974, 533975, 533976, 533977, 543800, 543801, 543802,\n",
    "       543803, 543804, 543805, 543806, 543807, 543810, 543811, 543812,\n",
    "       543813, 543814, 543815, 543816, 543817, 543820, 543821, 543822,\n",
    "       543823, 543824, 543825, 543826, 543827, 543837, 543900, 543901,\n",
    "       543902, 543903, 543904, 543905, 543906, 543907, 543910, 543911,\n",
    "       543912, 543913, 543914, 543915, 543916, 543917, 543920, 543921,\n",
    "       543922, 543923, 543924, 543925, 543926, 543927, 544010, 544020]\n",
    "df_one_month[\"text\"]=df_one_month[\"text\"].astype(str)\n",
    "sentences_text_test=df_one_month.text.values\n",
    "i=0\n",
    "estimation=[]\n",
    "model = BertForSequenceClassifier_pl.load_from_checkpoint(code_estimate_model_path)\n",
    "bert=model.bert.cuda()\n",
    "classifier=model.classifier.cuda()\n",
    "for sentence in sentences_text_test:\n",
    "    text=sentence\n",
    "    encoding = tokenizer(\n",
    "    text,\n",
    "    max_length = 107,           # 文章の長さを固定（Padding/Trancatinating）\n",
    "    pad_to_max_length = True,# PADDINGで埋める\n",
    "    truncation=True,\n",
    "    padding = 'longest',\n",
    "    return_tensors='pt')\n",
    "    encoding = { k: v.cuda() for k, v in encoding.items() }\n",
    "    with torch.no_grad():\n",
    "        output = bert(**encoding)\n",
    "        ans=classifier(output.pooler_output)\n",
    "        ans = ans.to('cpu').detach().numpy().copy()\n",
    "        ans=np.argmax(ans)\n",
    "        convert_ans = ans_labels[ans]\n",
    "        estimation.append(convert_ans)\n",
    "\n",
    "estimation=pd.Series(estimation)\n",
    "df_one_month=pd.concat([df_one_month,estimation],axis=1)\n",
    "df_one_month=df_one_month.rename(columns={0: 'code_estimation'})\n",
    "df_one_month.to_csv('/home/is/shuntaro-o/dev/persons_move_analysis/data/0801_ad_estimation.csv')"
   ]
  }
 ],
 "metadata": {
  "kernelspec": {
   "display_name": "Python 3.8.13 ('SharedTask')",
   "language": "python",
   "name": "python3"
  },
  "language_info": {
   "codemirror_mode": {
    "name": "ipython",
    "version": 3
   },
   "file_extension": ".py",
   "mimetype": "text/x-python",
   "name": "python",
   "nbconvert_exporter": "python",
   "pygments_lexer": "ipython3",
   "version": "3.8.13 (default, Mar 28 2022, 11:38:47) \n[GCC 7.5.0]"
  },
  "orig_nbformat": 4,
  "vscode": {
   "interpreter": {
    "hash": "6feaf4af813783365efc585a6800850988678764fcb0bba12eca45fe4d31fdb0"
   }
  }
 },
 "nbformat": 4,
 "nbformat_minor": 2
}
