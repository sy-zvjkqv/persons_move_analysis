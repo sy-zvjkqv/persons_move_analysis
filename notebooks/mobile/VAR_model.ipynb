{
 "cells": [
  {
   "cell_type": "code",
   "execution_count": 4,
   "metadata": {},
   "outputs": [],
   "source": [
    "import pandas as pd\n",
    "from matplotlib import mlab\n",
    "from matplotlib.dates import DateFormatter\n",
    "import matplotlib.pyplot as plt\n",
    "import matplotlib.dates as dates\n",
    "import seaborn as sns\n",
    "import datetime\n",
    "import pingouin as pg\n",
    "\n",
    "from statsmodels.tsa.stattools import adfuller\n",
    "from statsmodels.tsa.vector_ar.var_model import VAR\n",
    "\n",
    "import japanize_matplotlib\n",
    "\n",
    "plt.style.use('ggplot') #グラフのスタイル\n",
    "plt.rcParams['figure.figsize'] = [12, 9] # グラフサイズ設定"
   ]
  },
  {
   "cell_type": "code",
   "execution_count": 6,
   "metadata": {},
   "outputs": [],
   "source": [
    "import numpy as np"
   ]
  },
  {
   "cell_type": "code",
   "execution_count": 7,
   "metadata": {},
   "outputs": [],
   "source": [
    "estimate_from_mobile_data = np.load('/home/is/shuntaro-o/dev/persons_move_analysis/data/array_population_number_estimate/estimate_from_mobile_data.npy')\n",
    "estimate_month7_Geo = np.load('/home/is/shuntaro-o/dev/persons_move_analysis/data/array_population_number_estimate/estimate_month7_Geo.npy')"
   ]
  },
  {
   "cell_type": "code",
   "execution_count": 10,
   "metadata": {},
   "outputs": [],
   "source": [
    "estimate_from_mobile_data_flatten = estimate_from_mobile_data.flatten()\n",
    "estimate_month7_Geo_flatten = estimate_month7_Geo.flatten()"
   ]
  },
  {
   "cell_type": "code",
   "execution_count": 11,
   "metadata": {},
   "outputs": [],
   "source": [
    "ct_results = adfuller(estimate_from_mobile_data_flatten,regression='ct')  #対立仮説：定数項＋トレンド＋定常過程\n",
    "c_results = adfuller(estimate_from_mobile_data_flatten,regression='c')    #対立仮説：定数項＋定常過程\n",
    "n_results = adfuller(estimate_from_mobile_data_flatten,regression='n')"
   ]
  },
  {
   "cell_type": "code",
   "execution_count": 13,
   "metadata": {},
   "outputs": [
    {
     "name": "stdout",
     "output_type": "stream",
     "text": [
      "0.5092123185074653\n",
      "0.24302284702133115\n",
      "0.40843861614402466\n"
     ]
    }
   ],
   "source": [
    "print(ct_results[1])\n",
    "print(c_results[1])\n",
    "print(n_results[1])"
   ]
  }
 ],
 "metadata": {
  "kernelspec": {
   "display_name": "person_move",
   "language": "python",
   "name": "python3"
  },
  "language_info": {
   "codemirror_mode": {
    "name": "ipython",
    "version": 3
   },
   "file_extension": ".py",
   "mimetype": "text/x-python",
   "name": "python",
   "nbconvert_exporter": "python",
   "pygments_lexer": "ipython3",
   "version": "3.10.9"
  },
  "orig_nbformat": 4,
  "vscode": {
   "interpreter": {
    "hash": "be213527cfac8a9127d694b64812f9f8b5125957b351a0b17f64c450bb4567d8"
   }
  }
 },
 "nbformat": 4,
 "nbformat_minor": 2
}
